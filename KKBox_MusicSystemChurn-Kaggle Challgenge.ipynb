{
  "nbformat": 4,
  "nbformat_minor": 0,
  "metadata": {
    "colab": {
      "name": "IDS_AssignmentGroup95.ipynb",
      "provenance": [],
      "collapsed_sections": []
    },
    "kernelspec": {
      "name": "python3",
      "display_name": "Python 3"
    },
    "accelerator": "TPU"
  },
  "cells": [
    {
      "cell_type": "code",
      "metadata": {
        "colab": {
          "base_uri": "https://localhost:8080/"
        },
        "id": "G1urJV0wbrsY",
        "outputId": "d853b3f3-84b2-4ef9-d30d-e51b26444c4c"
      },
      "source": [
        "pip install kaggle"
      ],
      "execution_count": 1,
      "outputs": [
        {
          "output_type": "stream",
          "text": [
            "Requirement already satisfied: kaggle in /usr/local/lib/python3.6/dist-packages (1.5.10)\n",
            "Requirement already satisfied: tqdm in /usr/local/lib/python3.6/dist-packages (from kaggle) (4.41.1)\n",
            "Requirement already satisfied: certifi in /usr/local/lib/python3.6/dist-packages (from kaggle) (2020.12.5)\n",
            "Requirement already satisfied: requests in /usr/local/lib/python3.6/dist-packages (from kaggle) (2.23.0)\n",
            "Requirement already satisfied: python-slugify in /usr/local/lib/python3.6/dist-packages (from kaggle) (4.0.1)\n",
            "Requirement already satisfied: python-dateutil in /usr/local/lib/python3.6/dist-packages (from kaggle) (2.8.1)\n",
            "Requirement already satisfied: six>=1.10 in /usr/local/lib/python3.6/dist-packages (from kaggle) (1.15.0)\n",
            "Requirement already satisfied: urllib3 in /usr/local/lib/python3.6/dist-packages (from kaggle) (1.24.3)\n",
            "Requirement already satisfied: chardet<4,>=3.0.2 in /usr/local/lib/python3.6/dist-packages (from requests->kaggle) (3.0.4)\n",
            "Requirement already satisfied: idna<3,>=2.5 in /usr/local/lib/python3.6/dist-packages (from requests->kaggle) (2.10)\n",
            "Requirement already satisfied: text-unidecode>=1.3 in /usr/local/lib/python3.6/dist-packages (from python-slugify->kaggle) (1.3)\n"
          ],
          "name": "stdout"
        }
      ]
    },
    {
      "cell_type": "code",
      "metadata": {
        "colab": {
          "resources": {
            "http://localhost:8080/nbextensions/google.colab/files.js": {
              "data": "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",
              "ok": true,
              "headers": [
                [
                  "content-type",
                  "application/javascript"
                ]
              ],
              "status": 200,
              "status_text": ""
            }
          },
          "base_uri": "https://localhost:8080/",
          "height": 89
        },
        "id": "BI_k8qNieji7",
        "outputId": "5d3a416d-d608-47bd-c231-d855177e1640"
      },
      "source": [
        "from google.colab import files\r\n",
        "\r\n",
        "files.upload()"
      ],
      "execution_count": 2,
      "outputs": [
        {
          "output_type": "display_data",
          "data": {
            "text/html": [
              "\n",
              "     <input type=\"file\" id=\"files-cdc04320-83aa-4fb0-afda-750134afc47c\" name=\"files[]\" multiple disabled\n",
              "        style=\"border:none\" />\n",
              "     <output id=\"result-cdc04320-83aa-4fb0-afda-750134afc47c\">\n",
              "      Upload widget is only available when the cell has been executed in the\n",
              "      current browser session. Please rerun this cell to enable.\n",
              "      </output>\n",
              "      <script src=\"/nbextensions/google.colab/files.js\"></script> "
            ],
            "text/plain": [
              "<IPython.core.display.HTML object>"
            ]
          },
          "metadata": {
            "tags": []
          }
        },
        {
          "output_type": "stream",
          "text": [
            "Saving kaggle.json to kaggle.json\n"
          ],
          "name": "stdout"
        },
        {
          "output_type": "execute_result",
          "data": {
            "text/plain": [
              "{'kaggle.json': b'{\"username\":\"suryaprakashv\",\"key\":\"b49e1b94b43dae8580053551c7863b5e\"}'}"
            ]
          },
          "metadata": {
            "tags": []
          },
          "execution_count": 2
        }
      ]
    },
    {
      "cell_type": "code",
      "metadata": {
        "id": "fn4rhLzrdres"
      },
      "source": [
        "! mkdir ~/.kaggle\r\n",
        "! cp kaggle.json ~/.kaggle/\r\n",
        "! chmod 600 ~/.kaggle/kaggle.json"
      ],
      "execution_count": 3,
      "outputs": []
    },
    {
      "cell_type": "code",
      "metadata": {
        "colab": {
          "base_uri": "https://localhost:8080/"
        },
        "id": "iqDEHIG6cUI-",
        "outputId": "5681e8c1-fdd8-4fae-bdf1-955363c9c497"
      },
      "source": [
        "! kaggle competitions download -c kkbox-churn-prediction-challenge"
      ],
      "execution_count": 4,
      "outputs": [
        {
          "output_type": "stream",
          "text": [
            "Warning: Looks like you're using an outdated API Version, please consider updating (server 1.5.10 / client 1.5.4)\n",
            "Downloading train.csv.7z to /content\n",
            " 75% 24.0M/32.0M [00:00<00:00, 50.1MB/s]\n",
            "100% 32.0M/32.0M [00:00<00:00, 107MB/s] \n",
            "Downloading sample_submission_zero.csv.7z to /content\n",
            " 73% 23.0M/31.3M [00:00<00:00, 54.0MB/s]\n",
            "100% 31.3M/31.3M [00:00<00:00, 104MB/s] \n",
            "Downloading transactions.csv.7z to /content\n",
            " 99% 665M/675M [00:04<00:00, 178MB/s]\n",
            "100% 675M/675M [00:04<00:00, 168MB/s]\n",
            "Downloading WSDMChurnLabeller.scala to /content\n",
            "  0% 0.00/6.88k [00:00<?, ?B/s]\n",
            "100% 6.88k/6.88k [00:00<00:00, 6.80MB/s]\n",
            "Downloading user_logs.csv.7z to /content\n",
            "100% 6.65G/6.65G [01:46<00:00, 43.0MB/s]\n",
            "100% 6.65G/6.65G [01:46<00:00, 67.3MB/s]\n",
            "Downloading user_logs_v2.csv.7z to /content\n",
            " 99% 650M/654M [00:10<00:00, 65.1MB/s]\n",
            "100% 654M/654M [00:10<00:00, 63.4MB/s]\n",
            "Downloading members_v3.csv.7z to /content\n",
            " 99% 229M/231M [00:01<00:00, 94.9MB/s]\n",
            "100% 231M/231M [00:02<00:00, 120MB/s] \n",
            "Downloading sample_submission_v2.csv.7z to /content\n",
            " 44% 13.0M/29.2M [00:00<00:00, 129MB/s]\n",
            "100% 29.2M/29.2M [00:00<00:00, 142MB/s]\n",
            "Downloading transactions_v2.csv.7z to /content\n",
            " 92% 43.0M/46.6M [00:00<00:00, 55.2MB/s]\n",
            "100% 46.6M/46.6M [00:00<00:00, 72.9MB/s]\n",
            "Downloading train_v2.csv.7z to /content\n",
            " 96% 30.0M/31.3M [00:00<00:00, 51.2MB/s]\n",
            "100% 31.3M/31.3M [00:00<00:00, 70.6MB/s]\n"
          ],
          "name": "stdout"
        }
      ]
    },
    {
      "cell_type": "code",
      "metadata": {
        "id": "gns7d1y6qR__"
      },
      "source": [
        "import os\r\n",
        "#os.remove('sample_submission_zero.csv.7z')\r\n",
        "os.remove('train_v2.csv.7z')\r\n",
        "os.remove('transactions_v2.csv.7z')\r\n",
        "os.remove('user_logs_v2.csv.7z')\r\n",
        "os.remove('sample_submission_v2.csv.7z')"
      ],
      "execution_count": 5,
      "outputs": []
    },
    {
      "cell_type": "code",
      "metadata": {
        "colab": {
          "base_uri": "https://localhost:8080/"
        },
        "id": "Kpd6tbyMafFP",
        "outputId": "04084ea1-c0b0-406d-de4e-d817248d159b"
      },
      "source": [
        "!pip install py7zr"
      ],
      "execution_count": 6,
      "outputs": [
        {
          "output_type": "stream",
          "text": [
            "Collecting py7zr\n",
            "\u001b[?25l  Downloading https://files.pythonhosted.org/packages/ec/a8/2346bbe40f7f9bef89ef228d8077a4592f0bfc9b43897fb412d31e501609/py7zr-0.12.0-py3-none-any.whl (63kB)\n",
            "\r\u001b[K     |█████▏                          | 10kB 17.7MB/s eta 0:00:01\r\u001b[K     |██████████▎                     | 20kB 11.3MB/s eta 0:00:01\r\u001b[K     |███████████████▍                | 30kB 8.8MB/s eta 0:00:01\r\u001b[K     |████████████████████▌           | 40kB 7.8MB/s eta 0:00:01\r\u001b[K     |█████████████████████████▊      | 51kB 5.2MB/s eta 0:00:01\r\u001b[K     |██████████████████████████████▉ | 61kB 5.8MB/s eta 0:00:01\r\u001b[K     |████████████████████████████████| 71kB 4.0MB/s \n",
            "\u001b[?25hRequirement already satisfied: importlib-metadata; python_version < \"3.8\" in /usr/local/lib/python3.6/dist-packages (from py7zr) (3.4.0)\n",
            "Collecting pycryptodome\n",
            "\u001b[?25l  Downloading https://files.pythonhosted.org/packages/ad/16/9627ab0493894a11c68e46000dbcc82f578c8ff06bc2980dcd016aea9bd3/pycryptodome-3.10.1-cp35-abi3-manylinux2010_x86_64.whl (1.9MB)\n",
            "\u001b[K     |████████████████████████████████| 1.9MB 7.1MB/s \n",
            "\u001b[?25hCollecting zstandard\n",
            "\u001b[?25l  Downloading https://files.pythonhosted.org/packages/d9/6a/5ec4fdf8b67ba8aff9b11f201b7dd34d6a06e3677f9ffba9510b3e20405c/zstandard-0.15.1-cp36-cp36m-manylinux2014_x86_64.whl (2.2MB)\n",
            "\u001b[K     |████████████████████████████████| 2.2MB 26.1MB/s \n",
            "\u001b[?25hCollecting texttable\n",
            "  Downloading https://files.pythonhosted.org/packages/06/f5/46201c428aebe0eecfa83df66bf3e6caa29659dbac5a56ddfd83cae0d4a4/texttable-1.6.3-py2.py3-none-any.whl\n",
            "Collecting ppmd-cffi<0.4.0,>=0.3.1\n",
            "\u001b[?25l  Downloading https://files.pythonhosted.org/packages/6b/01/e71c6ed20455fb94b45c5c71c4ae3a99ba3a554359177a0086aa7d18281e/ppmd_cffi-0.3.3-cp36-cp36m-manylinux2014_x86_64.whl (122kB)\n",
            "\u001b[K     |████████████████████████████████| 122kB 39.4MB/s \n",
            "\u001b[?25hCollecting multivolumefile<0.2.0,>=0.1.1\n",
            "  Downloading https://files.pythonhosted.org/packages/a6/b2/f31dc29708c6cf2e8276c15d4af596c4d51f015423a26d53c24630c4cb44/multivolumefile-0.1.3-py3-none-any.whl\n",
            "Requirement already satisfied: zipp>=0.5 in /usr/local/lib/python3.6/dist-packages (from importlib-metadata; python_version < \"3.8\"->py7zr) (3.4.0)\n",
            "Requirement already satisfied: typing-extensions>=3.6.4; python_version < \"3.8\" in /usr/local/lib/python3.6/dist-packages (from importlib-metadata; python_version < \"3.8\"->py7zr) (3.7.4.3)\n",
            "Requirement already satisfied: cffi>=1.14.0 in /usr/local/lib/python3.6/dist-packages (from ppmd-cffi<0.4.0,>=0.3.1->py7zr) (1.14.4)\n",
            "Requirement already satisfied: pycparser in /usr/local/lib/python3.6/dist-packages (from cffi>=1.14.0->ppmd-cffi<0.4.0,>=0.3.1->py7zr) (2.20)\n",
            "Installing collected packages: pycryptodome, zstandard, texttable, ppmd-cffi, multivolumefile, py7zr\n",
            "Successfully installed multivolumefile-0.1.3 ppmd-cffi-0.3.3 py7zr-0.12.0 pycryptodome-3.10.1 texttable-1.6.3 zstandard-0.15.1\n"
          ],
          "name": "stdout"
        }
      ]
    },
    {
      "cell_type": "code",
      "metadata": {
        "id": "Dz46IM2UZTm-"
      },
      "source": [
        "import py7zr\r\n",
        "def loadinputDataFile(filename):\r\n",
        "  zip_ref = py7zr.SevenZipFile('./'+filename+'.7z', 'r')\r\n",
        "  zip_ref.extractall('all_data/')\r\n",
        "  zip_ref.close()\r\n",
        "  os.remove(filename+'.7z')"
      ],
      "execution_count": 7,
      "outputs": []
    },
    {
      "cell_type": "code",
      "metadata": {
        "id": "Q_ItDQDFw3vU"
      },
      "source": [
        "loadinputDataFile('train.csv')\r\n",
        "loadinputDataFile('members_v3.csv')\r\n",
        "loadinputDataFile('transactions.csv')\r\n",
        "loadinputDataFile('user_logs.csv')"
      ],
      "execution_count": null,
      "outputs": []
    },
    {
      "cell_type": "code",
      "metadata": {
        "colab": {
          "base_uri": "https://localhost:8080/",
          "height": 196
        },
        "id": "MQpL8yHvoU9A",
        "outputId": "e1b09d4e-7b89-4252-d12f-a31910a534fb"
      },
      "source": [
        "import pandas as pd\r\n",
        "traincsv = pd.read_csv('./all_data/train.csv')\r\n",
        "traincsv.head()"
      ],
      "execution_count": 1,
      "outputs": [
        {
          "output_type": "execute_result",
          "data": {
            "text/html": [
              "<div>\n",
              "<style scoped>\n",
              "    .dataframe tbody tr th:only-of-type {\n",
              "        vertical-align: middle;\n",
              "    }\n",
              "\n",
              "    .dataframe tbody tr th {\n",
              "        vertical-align: top;\n",
              "    }\n",
              "\n",
              "    .dataframe thead th {\n",
              "        text-align: right;\n",
              "    }\n",
              "</style>\n",
              "<table border=\"1\" class=\"dataframe\">\n",
              "  <thead>\n",
              "    <tr style=\"text-align: right;\">\n",
              "      <th></th>\n",
              "      <th>msno</th>\n",
              "      <th>is_churn</th>\n",
              "    </tr>\n",
              "  </thead>\n",
              "  <tbody>\n",
              "    <tr>\n",
              "      <th>0</th>\n",
              "      <td>waLDQMmcOu2jLDaV1ddDkgCrB/jl6sD66Xzs0Vqax1Y=</td>\n",
              "      <td>1</td>\n",
              "    </tr>\n",
              "    <tr>\n",
              "      <th>1</th>\n",
              "      <td>QA7uiXy8vIbUSPOkCf9RwQ3FsT8jVq2OxDr8zqa7bRQ=</td>\n",
              "      <td>1</td>\n",
              "    </tr>\n",
              "    <tr>\n",
              "      <th>2</th>\n",
              "      <td>fGwBva6hikQmTJzrbz/2Ezjm5Cth5jZUNvXigKK2AFA=</td>\n",
              "      <td>1</td>\n",
              "    </tr>\n",
              "    <tr>\n",
              "      <th>3</th>\n",
              "      <td>mT5V8rEpa+8wuqi6x0DoVd3H5icMKkE9Prt49UlmK+4=</td>\n",
              "      <td>1</td>\n",
              "    </tr>\n",
              "    <tr>\n",
              "      <th>4</th>\n",
              "      <td>XaPhtGLk/5UvvOYHcONTwsnH97P4eGECeq+BARGItRw=</td>\n",
              "      <td>1</td>\n",
              "    </tr>\n",
              "  </tbody>\n",
              "</table>\n",
              "</div>"
            ],
            "text/plain": [
              "                                           msno  is_churn\n",
              "0  waLDQMmcOu2jLDaV1ddDkgCrB/jl6sD66Xzs0Vqax1Y=         1\n",
              "1  QA7uiXy8vIbUSPOkCf9RwQ3FsT8jVq2OxDr8zqa7bRQ=         1\n",
              "2  fGwBva6hikQmTJzrbz/2Ezjm5Cth5jZUNvXigKK2AFA=         1\n",
              "3  mT5V8rEpa+8wuqi6x0DoVd3H5icMKkE9Prt49UlmK+4=         1\n",
              "4  XaPhtGLk/5UvvOYHcONTwsnH97P4eGECeq+BARGItRw=         1"
            ]
          },
          "metadata": {
            "tags": []
          },
          "execution_count": 1
        }
      ]
    },
    {
      "cell_type": "code",
      "metadata": {
        "colab": {
          "base_uri": "https://localhost:8080/"
        },
        "id": "tpIJhGZG9Hgp",
        "outputId": "87c16889-1277-4628-a019-53af0654305d"
      },
      "source": [
        "traincsv.info()"
      ],
      "execution_count": 2,
      "outputs": [
        {
          "output_type": "stream",
          "text": [
            "<class 'pandas.core.frame.DataFrame'>\n",
            "RangeIndex: 992931 entries, 0 to 992930\n",
            "Data columns (total 2 columns):\n",
            " #   Column    Non-Null Count   Dtype \n",
            "---  ------    --------------   ----- \n",
            " 0   msno      992931 non-null  object\n",
            " 1   is_churn  992931 non-null  int64 \n",
            "dtypes: int64(1), object(1)\n",
            "memory usage: 15.2+ MB\n"
          ],
          "name": "stdout"
        }
      ]
    },
    {
      "cell_type": "code",
      "metadata": {
        "colab": {
          "base_uri": "https://localhost:8080/",
          "height": 196
        },
        "id": "A-tQdJ9V-w9a",
        "outputId": "fd14beec-0982-4a1f-ddcc-2c7be1ead41d"
      },
      "source": [
        "members_v3csv = pd.read_csv('./all_data/members_v3.csv')\r\n",
        "members_v3csv.head()"
      ],
      "execution_count": 2,
      "outputs": [
        {
          "output_type": "execute_result",
          "data": {
            "text/html": [
              "<div>\n",
              "<style scoped>\n",
              "    .dataframe tbody tr th:only-of-type {\n",
              "        vertical-align: middle;\n",
              "    }\n",
              "\n",
              "    .dataframe tbody tr th {\n",
              "        vertical-align: top;\n",
              "    }\n",
              "\n",
              "    .dataframe thead th {\n",
              "        text-align: right;\n",
              "    }\n",
              "</style>\n",
              "<table border=\"1\" class=\"dataframe\">\n",
              "  <thead>\n",
              "    <tr style=\"text-align: right;\">\n",
              "      <th></th>\n",
              "      <th>msno</th>\n",
              "      <th>city</th>\n",
              "      <th>bd</th>\n",
              "      <th>gender</th>\n",
              "      <th>registered_via</th>\n",
              "      <th>registration_init_time</th>\n",
              "    </tr>\n",
              "  </thead>\n",
              "  <tbody>\n",
              "    <tr>\n",
              "      <th>0</th>\n",
              "      <td>Rb9UwLQTrxzBVwCB6+bCcSQWZ9JiNLC9dXtM1oEsZA8=</td>\n",
              "      <td>1</td>\n",
              "      <td>0</td>\n",
              "      <td>NaN</td>\n",
              "      <td>11</td>\n",
              "      <td>20110911</td>\n",
              "    </tr>\n",
              "    <tr>\n",
              "      <th>1</th>\n",
              "      <td>+tJonkh+O1CA796Fm5X60UMOtB6POHAwPjbTRVl/EuU=</td>\n",
              "      <td>1</td>\n",
              "      <td>0</td>\n",
              "      <td>NaN</td>\n",
              "      <td>7</td>\n",
              "      <td>20110914</td>\n",
              "    </tr>\n",
              "    <tr>\n",
              "      <th>2</th>\n",
              "      <td>cV358ssn7a0f7jZOwGNWS07wCKVqxyiImJUX6xcIwKw=</td>\n",
              "      <td>1</td>\n",
              "      <td>0</td>\n",
              "      <td>NaN</td>\n",
              "      <td>11</td>\n",
              "      <td>20110915</td>\n",
              "    </tr>\n",
              "    <tr>\n",
              "      <th>3</th>\n",
              "      <td>9bzDeJP6sQodK73K5CBlJ6fgIQzPeLnRl0p5B77XP+g=</td>\n",
              "      <td>1</td>\n",
              "      <td>0</td>\n",
              "      <td>NaN</td>\n",
              "      <td>11</td>\n",
              "      <td>20110915</td>\n",
              "    </tr>\n",
              "    <tr>\n",
              "      <th>4</th>\n",
              "      <td>WFLY3s7z4EZsieHCt63XrsdtfTEmJ+2PnnKLH5GY4Tk=</td>\n",
              "      <td>6</td>\n",
              "      <td>32</td>\n",
              "      <td>female</td>\n",
              "      <td>9</td>\n",
              "      <td>20110915</td>\n",
              "    </tr>\n",
              "  </tbody>\n",
              "</table>\n",
              "</div>"
            ],
            "text/plain": [
              "                                           msno  ...  registration_init_time\n",
              "0  Rb9UwLQTrxzBVwCB6+bCcSQWZ9JiNLC9dXtM1oEsZA8=  ...                20110911\n",
              "1  +tJonkh+O1CA796Fm5X60UMOtB6POHAwPjbTRVl/EuU=  ...                20110914\n",
              "2  cV358ssn7a0f7jZOwGNWS07wCKVqxyiImJUX6xcIwKw=  ...                20110915\n",
              "3  9bzDeJP6sQodK73K5CBlJ6fgIQzPeLnRl0p5B77XP+g=  ...                20110915\n",
              "4  WFLY3s7z4EZsieHCt63XrsdtfTEmJ+2PnnKLH5GY4Tk=  ...                20110915\n",
              "\n",
              "[5 rows x 6 columns]"
            ]
          },
          "metadata": {
            "tags": []
          },
          "execution_count": 2
        }
      ]
    },
    {
      "cell_type": "code",
      "metadata": {
        "colab": {
          "base_uri": "https://localhost:8080/"
        },
        "id": "OKsEaLdBMb0q",
        "outputId": "d6998b0c-0f6e-4dea-bf5e-7bca6bc609a7"
      },
      "source": [
        "members_v3csv.info()"
      ],
      "execution_count": 4,
      "outputs": [
        {
          "output_type": "stream",
          "text": [
            "<class 'pandas.core.frame.DataFrame'>\n",
            "RangeIndex: 6769473 entries, 0 to 6769472\n",
            "Data columns (total 6 columns):\n",
            " #   Column                  Dtype \n",
            "---  ------                  ----- \n",
            " 0   msno                    object\n",
            " 1   city                    int64 \n",
            " 2   bd                      int64 \n",
            " 3   gender                  object\n",
            " 4   registered_via          int64 \n",
            " 5   registration_init_time  int64 \n",
            "dtypes: int64(4), object(2)\n",
            "memory usage: 309.9+ MB\n"
          ],
          "name": "stdout"
        }
      ]
    },
    {
      "cell_type": "code",
      "metadata": {
        "colab": {
          "base_uri": "https://localhost:8080/",
          "height": 216
        },
        "id": "K3JbFHbTsuf9",
        "outputId": "d5daf8b8-4de7-41d0-b930-7bc466d28f7e"
      },
      "source": [
        "transactionscsv = pd.read_csv('./all_data/transactions.csv')\r\n",
        "transactionscsv.head()"
      ],
      "execution_count": 3,
      "outputs": [
        {
          "output_type": "execute_result",
          "data": {
            "text/html": [
              "<div>\n",
              "<style scoped>\n",
              "    .dataframe tbody tr th:only-of-type {\n",
              "        vertical-align: middle;\n",
              "    }\n",
              "\n",
              "    .dataframe tbody tr th {\n",
              "        vertical-align: top;\n",
              "    }\n",
              "\n",
              "    .dataframe thead th {\n",
              "        text-align: right;\n",
              "    }\n",
              "</style>\n",
              "<table border=\"1\" class=\"dataframe\">\n",
              "  <thead>\n",
              "    <tr style=\"text-align: right;\">\n",
              "      <th></th>\n",
              "      <th>msno</th>\n",
              "      <th>payment_method_id</th>\n",
              "      <th>payment_plan_days</th>\n",
              "      <th>plan_list_price</th>\n",
              "      <th>actual_amount_paid</th>\n",
              "      <th>is_auto_renew</th>\n",
              "      <th>transaction_date</th>\n",
              "      <th>membership_expire_date</th>\n",
              "      <th>is_cancel</th>\n",
              "    </tr>\n",
              "  </thead>\n",
              "  <tbody>\n",
              "    <tr>\n",
              "      <th>0</th>\n",
              "      <td>YyO+tlZtAXYXoZhNr3Vg3+dfVQvrBVGO8j1mfqe4ZHc=</td>\n",
              "      <td>41</td>\n",
              "      <td>30</td>\n",
              "      <td>129</td>\n",
              "      <td>129</td>\n",
              "      <td>1</td>\n",
              "      <td>20150930</td>\n",
              "      <td>20151101</td>\n",
              "      <td>0</td>\n",
              "    </tr>\n",
              "    <tr>\n",
              "      <th>1</th>\n",
              "      <td>AZtu6Wl0gPojrEQYB8Q3vBSmE2wnZ3hi1FbK1rQQ0A4=</td>\n",
              "      <td>41</td>\n",
              "      <td>30</td>\n",
              "      <td>149</td>\n",
              "      <td>149</td>\n",
              "      <td>1</td>\n",
              "      <td>20150930</td>\n",
              "      <td>20151031</td>\n",
              "      <td>0</td>\n",
              "    </tr>\n",
              "    <tr>\n",
              "      <th>2</th>\n",
              "      <td>UkDFI97Qb6+s2LWcijVVv4rMAsORbVDT2wNXF0aVbns=</td>\n",
              "      <td>41</td>\n",
              "      <td>30</td>\n",
              "      <td>129</td>\n",
              "      <td>129</td>\n",
              "      <td>1</td>\n",
              "      <td>20150930</td>\n",
              "      <td>20160427</td>\n",
              "      <td>0</td>\n",
              "    </tr>\n",
              "    <tr>\n",
              "      <th>3</th>\n",
              "      <td>M1C56ijxozNaGD0t2h68PnH2xtx5iO5iR2MVYQB6nBI=</td>\n",
              "      <td>39</td>\n",
              "      <td>30</td>\n",
              "      <td>149</td>\n",
              "      <td>149</td>\n",
              "      <td>1</td>\n",
              "      <td>20150930</td>\n",
              "      <td>20151128</td>\n",
              "      <td>0</td>\n",
              "    </tr>\n",
              "    <tr>\n",
              "      <th>4</th>\n",
              "      <td>yvj6zyBUaqdbUQSrKsrZ+xNDVM62knauSZJzakS9OW4=</td>\n",
              "      <td>39</td>\n",
              "      <td>30</td>\n",
              "      <td>149</td>\n",
              "      <td>149</td>\n",
              "      <td>1</td>\n",
              "      <td>20150930</td>\n",
              "      <td>20151121</td>\n",
              "      <td>0</td>\n",
              "    </tr>\n",
              "  </tbody>\n",
              "</table>\n",
              "</div>"
            ],
            "text/plain": [
              "                                           msno  ...  is_cancel\n",
              "0  YyO+tlZtAXYXoZhNr3Vg3+dfVQvrBVGO8j1mfqe4ZHc=  ...          0\n",
              "1  AZtu6Wl0gPojrEQYB8Q3vBSmE2wnZ3hi1FbK1rQQ0A4=  ...          0\n",
              "2  UkDFI97Qb6+s2LWcijVVv4rMAsORbVDT2wNXF0aVbns=  ...          0\n",
              "3  M1C56ijxozNaGD0t2h68PnH2xtx5iO5iR2MVYQB6nBI=  ...          0\n",
              "4  yvj6zyBUaqdbUQSrKsrZ+xNDVM62knauSZJzakS9OW4=  ...          0\n",
              "\n",
              "[5 rows x 9 columns]"
            ]
          },
          "metadata": {
            "tags": []
          },
          "execution_count": 3
        }
      ]
    },
    {
      "cell_type": "code",
      "metadata": {
        "colab": {
          "base_uri": "https://localhost:8080/"
        },
        "id": "yXkIQrSTMlYY",
        "outputId": "d9f91e93-465f-4a61-8591-5101dd580b3c"
      },
      "source": [
        "transactionscsv.info()"
      ],
      "execution_count": 6,
      "outputs": [
        {
          "output_type": "stream",
          "text": [
            "<class 'pandas.core.frame.DataFrame'>\n",
            "RangeIndex: 21547746 entries, 0 to 21547745\n",
            "Data columns (total 9 columns):\n",
            " #   Column                  Dtype \n",
            "---  ------                  ----- \n",
            " 0   msno                    object\n",
            " 1   payment_method_id       int64 \n",
            " 2   payment_plan_days       int64 \n",
            " 3   plan_list_price         int64 \n",
            " 4   actual_amount_paid      int64 \n",
            " 5   is_auto_renew           int64 \n",
            " 6   transaction_date        int64 \n",
            " 7   membership_expire_date  int64 \n",
            " 8   is_cancel               int64 \n",
            "dtypes: int64(8), object(1)\n",
            "memory usage: 1.4+ GB\n"
          ],
          "name": "stdout"
        }
      ]
    },
    {
      "cell_type": "code",
      "metadata": {
        "id": "LY97A5wKua2F"
      },
      "source": [
        "trainMembData = traincsv.join(members_v3csv.set_index('msno'),on='msno',how='left')\r\n",
        "trainMembTrasactionscsv = trainMembData.join(transactionscsv.set_index('msno'),on='msno',how='left')"
      ],
      "execution_count": 4,
      "outputs": []
    },
    {
      "cell_type": "code",
      "metadata": {
        "id": "myScF6h2yWZk"
      },
      "source": [
        "del traincsv\r\n",
        "del members_v3csv\r\n",
        "del transactionscsv"
      ],
      "execution_count": null,
      "outputs": []
    },
    {
      "cell_type": "code",
      "metadata": {
        "colab": {
          "base_uri": "https://localhost:8080/"
        },
        "id": "Iik8nAcUDpF-",
        "outputId": "d4539541-10fb-4a7f-b8a4-cc62eacde347"
      },
      "source": [
        "trainMembTrasactionscsv.info()"
      ],
      "execution_count": 9,
      "outputs": [
        {
          "output_type": "stream",
          "text": [
            "<class 'pandas.core.frame.DataFrame'>\n",
            "Int64Index: 15883148 entries, 0 to 992930\n",
            "Data columns (total 15 columns):\n",
            " #   Column                  Dtype  \n",
            "---  ------                  -----  \n",
            " 0   msno                    object \n",
            " 1   is_churn                int64  \n",
            " 2   city                    float64\n",
            " 3   bd                      float64\n",
            " 4   gender                  object \n",
            " 5   registered_via          float64\n",
            " 6   registration_init_time  float64\n",
            " 7   payment_method_id       int64  \n",
            " 8   payment_plan_days       int64  \n",
            " 9   plan_list_price         int64  \n",
            " 10  actual_amount_paid      int64  \n",
            " 11  is_auto_renew           int64  \n",
            " 12  transaction_date        int64  \n",
            " 13  membership_expire_date  int64  \n",
            " 14  is_cancel               int64  \n",
            "dtypes: float64(4), int64(9), object(2)\n",
            "memory usage: 1.9+ GB\n"
          ],
          "name": "stdout"
        }
      ]
    },
    {
      "cell_type": "code",
      "metadata": {
        "colab": {
          "base_uri": "https://localhost:8080/",
          "height": 196
        },
        "id": "JqUQokPWDxmU",
        "outputId": "6d8014e2-4c1c-43e7-9fe2-42612b5ed22b"
      },
      "source": [
        "sample_userlog = pd.read_csv('./all_data/user_logs.csv',nrows=50000)\r\n",
        "sample_userlog.head()"
      ],
      "execution_count": 7,
      "outputs": [
        {
          "output_type": "execute_result",
          "data": {
            "text/html": [
              "<div>\n",
              "<style scoped>\n",
              "    .dataframe tbody tr th:only-of-type {\n",
              "        vertical-align: middle;\n",
              "    }\n",
              "\n",
              "    .dataframe tbody tr th {\n",
              "        vertical-align: top;\n",
              "    }\n",
              "\n",
              "    .dataframe thead th {\n",
              "        text-align: right;\n",
              "    }\n",
              "</style>\n",
              "<table border=\"1\" class=\"dataframe\">\n",
              "  <thead>\n",
              "    <tr style=\"text-align: right;\">\n",
              "      <th></th>\n",
              "      <th>msno</th>\n",
              "      <th>date</th>\n",
              "      <th>num_25</th>\n",
              "      <th>num_50</th>\n",
              "      <th>num_75</th>\n",
              "      <th>num_985</th>\n",
              "      <th>num_100</th>\n",
              "      <th>num_unq</th>\n",
              "      <th>total_secs</th>\n",
              "    </tr>\n",
              "  </thead>\n",
              "  <tbody>\n",
              "    <tr>\n",
              "      <th>0</th>\n",
              "      <td>rxIP2f2aN0rYNp+toI0Obt/N/FYQX8hcO1fTmmy2h34=</td>\n",
              "      <td>20150513</td>\n",
              "      <td>0</td>\n",
              "      <td>0</td>\n",
              "      <td>0</td>\n",
              "      <td>0</td>\n",
              "      <td>1</td>\n",
              "      <td>1</td>\n",
              "      <td>280.335</td>\n",
              "    </tr>\n",
              "    <tr>\n",
              "      <th>1</th>\n",
              "      <td>rxIP2f2aN0rYNp+toI0Obt/N/FYQX8hcO1fTmmy2h34=</td>\n",
              "      <td>20150709</td>\n",
              "      <td>9</td>\n",
              "      <td>1</td>\n",
              "      <td>0</td>\n",
              "      <td>0</td>\n",
              "      <td>7</td>\n",
              "      <td>11</td>\n",
              "      <td>1658.948</td>\n",
              "    </tr>\n",
              "    <tr>\n",
              "      <th>2</th>\n",
              "      <td>yxiEWwE9VR5utpUecLxVdQ5B7NysUPfrNtGINaM2zA8=</td>\n",
              "      <td>20150105</td>\n",
              "      <td>3</td>\n",
              "      <td>3</td>\n",
              "      <td>0</td>\n",
              "      <td>0</td>\n",
              "      <td>68</td>\n",
              "      <td>36</td>\n",
              "      <td>17364.956</td>\n",
              "    </tr>\n",
              "    <tr>\n",
              "      <th>3</th>\n",
              "      <td>yxiEWwE9VR5utpUecLxVdQ5B7NysUPfrNtGINaM2zA8=</td>\n",
              "      <td>20150306</td>\n",
              "      <td>1</td>\n",
              "      <td>0</td>\n",
              "      <td>1</td>\n",
              "      <td>1</td>\n",
              "      <td>97</td>\n",
              "      <td>27</td>\n",
              "      <td>24667.317</td>\n",
              "    </tr>\n",
              "    <tr>\n",
              "      <th>4</th>\n",
              "      <td>yxiEWwE9VR5utpUecLxVdQ5B7NysUPfrNtGINaM2zA8=</td>\n",
              "      <td>20150501</td>\n",
              "      <td>3</td>\n",
              "      <td>0</td>\n",
              "      <td>0</td>\n",
              "      <td>0</td>\n",
              "      <td>38</td>\n",
              "      <td>38</td>\n",
              "      <td>9649.029</td>\n",
              "    </tr>\n",
              "  </tbody>\n",
              "</table>\n",
              "</div>"
            ],
            "text/plain": [
              "                                           msno      date  ...  num_unq  total_secs\n",
              "0  rxIP2f2aN0rYNp+toI0Obt/N/FYQX8hcO1fTmmy2h34=  20150513  ...        1     280.335\n",
              "1  rxIP2f2aN0rYNp+toI0Obt/N/FYQX8hcO1fTmmy2h34=  20150709  ...       11    1658.948\n",
              "2  yxiEWwE9VR5utpUecLxVdQ5B7NysUPfrNtGINaM2zA8=  20150105  ...       36   17364.956\n",
              "3  yxiEWwE9VR5utpUecLxVdQ5B7NysUPfrNtGINaM2zA8=  20150306  ...       27   24667.317\n",
              "4  yxiEWwE9VR5utpUecLxVdQ5B7NysUPfrNtGINaM2zA8=  20150501  ...       38    9649.029\n",
              "\n",
              "[5 rows x 9 columns]"
            ]
          },
          "metadata": {
            "tags": []
          },
          "execution_count": 7
        }
      ]
    },
    {
      "cell_type": "code",
      "metadata": {
        "id": "Zvb9hKrvrPwl"
      },
      "source": [
        "finalMergeddata = trainMembTrasactionscsv.join(sample_userlog.set_index('msno'),on='msno',how='inner')"
      ],
      "execution_count": 8,
      "outputs": []
    },
    {
      "cell_type": "code",
      "metadata": {
        "id": "4XeIVwuVHzQ6"
      },
      "source": [
        "del sample_userlog"
      ],
      "execution_count": 12,
      "outputs": []
    },
    {
      "cell_type": "code",
      "metadata": {
        "colab": {
          "base_uri": "https://localhost:8080/"
        },
        "id": "ywlH6oDz-PN8",
        "outputId": "287ef882-dd61-484a-acff-77060de859fb"
      },
      "source": [
        "finalMergeddata.info()"
      ],
      "execution_count": 14,
      "outputs": [
        {
          "output_type": "stream",
          "text": [
            "<class 'pandas.core.frame.DataFrame'>\n",
            "Int64Index: 17003592 entries, 0 to 992930\n",
            "Data columns (total 23 columns):\n",
            " #   Column                  Dtype  \n",
            "---  ------                  -----  \n",
            " 0   msno                    object \n",
            " 1   is_churn                int64  \n",
            " 2   city                    float64\n",
            " 3   bd                      float64\n",
            " 4   gender                  object \n",
            " 5   registered_via          float64\n",
            " 6   registration_init_time  float64\n",
            " 7   payment_method_id       int64  \n",
            " 8   payment_plan_days       int64  \n",
            " 9   plan_list_price         int64  \n",
            " 10  actual_amount_paid      int64  \n",
            " 11  is_auto_renew           int64  \n",
            " 12  transaction_date        int64  \n",
            " 13  membership_expire_date  int64  \n",
            " 14  is_cancel               int64  \n",
            " 15  date                    float64\n",
            " 16  num_25                  float64\n",
            " 17  num_50                  float64\n",
            " 18  num_75                  float64\n",
            " 19  num_985                 float64\n",
            " 20  num_100                 float64\n",
            " 21  num_unq                 float64\n",
            " 22  total_secs              float64\n",
            "dtypes: float64(12), int64(9), object(2)\n",
            "memory usage: 3.0+ GB\n"
          ],
          "name": "stdout"
        }
      ]
    },
    {
      "cell_type": "code",
      "metadata": {
        "id": "PyetVJHZIzjg"
      },
      "source": [
        "import seaborn as sns \r\n",
        "import matplotlib.pyplot as plt\r\n",
        "def categorical_count_plots(col_name):\r\n",
        "  plt.figure(figsize=(20,5))\r\n",
        "  sns.countplot(x=col_name,data=finalMergeddata)\r\n",
        "  sns.set_theme(style=\"darkgrid\")\r\n",
        "  plt.xlabel(col_name)\r\n",
        "  plt.ylabel('count')\r\n",
        "  plt.xticks(rotation='75')\r\n",
        "  plt.title('Count plot for '+col_name)\r\n",
        "  plt.tight_layout()"
      ],
      "execution_count": 17,
      "outputs": []
    },
    {
      "cell_type": "code",
      "metadata": {
        "id": "xeCejjEvWEpO",
        "colab": {
          "base_uri": "https://localhost:8080/",
          "height": 328
        },
        "outputId": "986375f0-b023-469d-c878-c78961f931f8"
      },
      "source": [
        "categorical_count_plots('registered_via')"
      ],
      "execution_count": 18,
      "outputs": [
        {
          "output_type": "display_data",
          "data": {
            "image/png": "[encoded data removed]",
            "text/plain": [
              "<Figure size 1440x360 with 1 Axes>"
            ]
          },
          "metadata": {
            "tags": [],
            "needs_background": "light"
          }
        }
      ]
    },
    {
      "cell_type": "code",
      "metadata": {
        "id": "rlNhW5-8WD1P",
        "colab": {
          "base_uri": "https://localhost:8080/",
          "height": 328
        },
        "outputId": "e9565c76-e853-4166-cd2d-bdfa6c231115"
      },
      "source": [
        "categorical_count_plots('payment_method_id')"
      ],
      "execution_count": 19,
      "outputs": [
        {
          "output_type": "display_data",
          "data": {
            "image/png": "[encoded data removed]",
            "text/plain": [
              "<Figure size 1440x360 with 1 Axes>"
            ]
          },
          "metadata": {
            "tags": []
          }
        }
      ]
    },
    {
      "cell_type": "code",
      "metadata": {
        "id": "9Al7A8b3a99r",
        "colab": {
          "base_uri": "https://localhost:8080/",
          "height": 328
        },
        "outputId": "6a7fc353-82ba-4a9d-eed1-967846fe14d8"
      },
      "source": [
        "plt.figure(figsize=(20,5))\r\n",
        "sns.countplot(x='gender',hue='is_churn',data=finalMergeddata)\r\n",
        "sns.set_theme(style=\"darkgrid\")\r\n",
        "plt.xlabel('gender vs churn_rate')\r\n",
        "plt.ylabel('count')\r\n",
        "plt.xticks(rotation='75')\r\n",
        "plt.title('Count plot for '+'Gender versus churn rate')\r\n",
        "plt.tight_layout()"
      ],
      "execution_count": 22,
      "outputs": [
        {
          "output_type": "display_data",
          "data": {
            "image/png": "[encoded data removed]",
            "text/plain": [
              "<Figure size 1440x360 with 1 Axes>"
            ]
          },
          "metadata": {
            "tags": []
          }
        }
      ]
    },
    {
      "cell_type": "code",
      "metadata": {
        "id": "iIkm6BUnXA21"
      },
      "source": [
        "import numpy as np\r\n",
        "def preprocessing(data):\r\n",
        "    # taking all registration_init_time feature and storing them to registration_time\r\n",
        "    # but before going to do that, just impute median date in place of nan\r\n",
        "    data['registration_init_time'] = data['registration_init_time'].fillna(20150204.0)\r\n",
        "    \r\n",
        "    registration_time = data['registration_init_time'].values   # getting registration_init_time array and store them to registration_time list\r\n",
        "    \r\n",
        "    data['city'] = data['city'].fillna(0)   # imputing 0 in place of nan values in the city column\r\n",
        "\r\n",
        "    data['bd'] = data['bd'].apply(lambda x: x if (x < 72.0) and (x > 0.0) else np.nan) # removing outliers from Age\r\n",
        "    data['bd'] = data['bd'].fillna(28.0)            # imputing 28 as age instead of nan\r\n",
        "\r\n",
        "    data['gender'] = data['gender'].replace(to_replace='male', value=1)     # replacing male with 1 in gender\r\n",
        "    data['gender'] = data['gender'].replace(to_replace='female', value=2)   # replacing male with 2 in gender\r\n",
        "    data['gender'] = data['gender'].fillna(0)                               # replacing nan with 0 in gender\r\n",
        "    data['registered_via'] = data['registered_via'].fillna(0)       # replace 0 instead of nan in registered_via\r\n",
        "\r\n",
        "    data['registration_init_time'] = data['registration_init_time'].fillna(20150204.0)    # filling median date in place of nan in the df\r\n",
        "    data['registration_init_time'] = pd.to_datetime(data['registration_init_time'], format='%Y%m%d')    # converting float date to datetime\r\n",
        "\r\n",
        "    data['payment_method_id'] = data['payment_method_id'].fillna(0)   # imputing 0 in place of nan value in payment_method_id\r\n",
        "    data['payment_plan_days'] = data['payment_plan_days'].apply(lambda x: x if (x <= 30.0) else np.nan)     # removing outliers\r\n",
        "    data['payment_plan_days'] = data['payment_plan_days'].fillna(30.0)    # imputing 30 in place of nan in payment_plan_days\r\n",
        "\r\n",
        "    data['plan_list_price'] = data['plan_list_price'].apply(lambda x: x if (x <= 180.0) else np.nan)# removing outliers\r\n",
        "    data['plan_list_price'] = data['plan_list_price'].fillna(149.0)     # imputing 149 in place of nan in plan_list_price\r\n",
        "\r\n",
        "    data['actual_amount_paid'] = data['actual_amount_paid'].apply(lambda x: x if (x <= 180.0) else np.nan)# removing outliers\r\n",
        "    data['actual_amount_paid'] = data['actual_amount_paid'].fillna(149.0)# imputing 149 in place of nan in actual_amount_paid\r\n",
        "\r\n",
        "    data['is_auto_renew'] = data['is_auto_renew'].fillna(2)       # imputing 2 in place of nan values in is_auto_renew\r\n",
        "\r\n",
        "    data['transaction_date'] = data['transaction_date'].fillna(20170316.0)    # filling median date in place of nan in the df\r\n",
        "    data['transaction_date'] = pd.to_datetime(data['transaction_date'], format='%Y%m%d')# converting float date to datetime\r\n",
        "\r\n",
        "    data['membership_expire_date'] = data['membership_expire_date'].fillna(20170419.0)# filling median date in place of nan in the df\r\n",
        "    data['membership_expire_date'] = pd.to_datetime(data['membership_expire_date'], format='%Y%m%d')# converting float date to datetime\r\n",
        "\r\n",
        "    data['is_cancel'] = data['is_cancel'].fillna(2)# imputing 2 in place of nan values in is_cancel\r\n",
        "    data['date'] = data['date'].fillna(20170316.0)# filling median date in place of nan in the df\r\n",
        "    \r\n",
        "    data['date'] = pd.to_datetime(data['date'], format='%Y%m%d')# converting float date to datetime\r\n",
        "\r\n",
        "    data['num_25'] = data['num_25'].apply(lambda x: x if (x <= 15.0) else np.nan)# removing outliers\r\n",
        "    data['num_25'] = data['num_25'].fillna(2.0)# now I can impute 2 instead of nan in num_25\r\n",
        "\r\n",
        "    data['num_50'] = data['num_50'].apply(lambda x: x if (x <= 4.0) else np.nan)# removing outliers\r\n",
        "    data['num_50'] = data['num_50'].fillna(0)# now I can impute 0 instead of nan in num_50\r\n",
        "    \r\n",
        "    data['num_75'] = data['num_75'].apply(lambda x: x if (x <= 3.0) else np.nan)# removing outliers\r\n",
        "    data['num_75'] = data['num_75'].fillna(0)# now I can impute 0 instead of nan in num_75\r\n",
        "    \r\n",
        "    data['num_985'] = data['num_985'].apply(lambda x: x if (x <= 3.0) else np.nan)# removing outliers\r\n",
        "    data['num_985'] = data['num_985'].fillna(0)# now I can impute 0 instead of nan in num_985\r\n",
        "\r\n",
        "    \r\n",
        "    data['num_100'] = data['num_100'].apply(lambda x: x if (x <= 74.0) else np.nan)# removing outliers\r\n",
        "    data['num_100'] = data['num_100'].fillna(14.0)# now I can impute 14 instead of nan in num_100\r\n",
        "\r\n",
        "    data['num_unq'] = data['num_unq'].apply(lambda x: x if (x <= 68.0) else np.nan)# removing outliers    \r\n",
        "    data['num_unq'] = data['num_unq'].fillna(16.0)# now I can impute 16 instead of nan in num_unq\r\n",
        "\r\n",
        "    data['total_secs'] = data['total_secs'].apply(lambda x: x if (x <= 19167.549700000025) else np.nan)# removing outliers    \r\n",
        "    data['total_secs'] = data['total_secs'].fillna(3880.765)# now I can impute 3880.765 instead of nan in total_secs\r\n",
        "    \r\n",
        "    return data, registration_time"
      ],
      "execution_count": 9,
      "outputs": []
    },
    {
      "cell_type": "code",
      "metadata": {
        "id": "IetDEE2Jq_Jn"
      },
      "source": [
        "data, registration_time = preprocessing(finalMergeddata.sample(10000))"
      ],
      "execution_count": 10,
      "outputs": []
    },
    {
      "cell_type": "code",
      "metadata": {
        "id": "2wHwGxYTO0n7"
      },
      "source": [
        "def featurization(data):\r\n",
        "    data['date'] = pd.to_datetime(data['date'], errors='coerce')# Feature - 1 (getting weekday from date)\r\n",
        "    data['day_of_the_week'] = data['date'].dt.day_name().values\r\n",
        "    \r\n",
        "    data['is_weekend'] = data['day_of_the_week'].apply(lambda x: 1 if (x == 'Saturday') or (x == 'Sunday') else 0)# Feature - 2 (checking for the weekend)\r\n",
        "    data['is_weekday'] = data['is_weekend'].apply(lambda x: 1 if (x == 0) else 0)# Feature - 3 (checking for the weekday)\r\n",
        "    \r\n",
        "    def std(x):\r\n",
        "        return np.std(x)\r\n",
        "\r\n",
        "    # grouping them together for train data\r\n",
        "    temp_df = data.groupby('msno').agg(num_25_sum=('num_25', 'sum'),\r\n",
        "                                    num_50_sum=('num_50', 'sum'),\r\n",
        "                                    num_75_sum=('num_75', 'sum'),\r\n",
        "                                    num_985_sum=('num_985', 'sum'),\r\n",
        "                                    num_100_sum=('num_100', 'sum'),\r\n",
        "                                    num_unq_sum=('num_unq', 'sum'),\r\n",
        "                                    total_secs_sum=('total_secs', 'sum'),\r\n",
        "                                    is_weekend_sum=('is_weekend', 'sum'),\r\n",
        "                                    is_weekday_sum=('is_weekday', 'sum'),\r\n",
        "                                    num_25_mean=('num_25', 'mean'),\r\n",
        "                                    num_50_mean=('num_50', 'mean'),\r\n",
        "                                    num_75_mean=('num_75', 'mean'),\r\n",
        "                                    num_985_mean=('num_985', 'mean'),\r\n",
        "                                    num_100_mean=('num_100', 'mean'),\r\n",
        "                                    num_unq_mean=('num_unq', 'mean'),\r\n",
        "                                    total_secs_mean=('total_secs', 'mean'),\r\n",
        "                                    num_25_std=('num_25', std),\r\n",
        "                                    num_50_std=('num_50', std),\r\n",
        "                                    num_75_std=('num_75', std),\r\n",
        "                                    num_985_std=('num_985', std),\r\n",
        "                                    num_100_std=('num_100', std),\r\n",
        "                                    num_unq_std=('num_unq', std),\r\n",
        "                                    total_secs_std=('total_secs', std),\r\n",
        "                                    active_days=('date', 'nunique'),\r\n",
        "                                    date_min=('date', 'min'),\r\n",
        "                                    date_max=('date', 'max'),\r\n",
        "                                    payment_plan_days_mean=('payment_plan_days', 'mean'),\r\n",
        "                                    plan_list_price_mean=('plan_list_price', 'mean'),\r\n",
        "                                    actual_amount_paid_mean=('actual_amount_paid', 'mean'),\r\n",
        "                                    transaction_date_count=('transaction_date', 'nunique'),\r\n",
        "                                    transaction_date_max=('transaction_date', 'max'),\r\n",
        "                                    membership_expire_date_max=('membership_expire_date', 'max'),\r\n",
        "                                    membership_expire_count=('membership_expire_date', 'nunique'))\r\n",
        "    # merging them with the train dataset\r\n",
        "    data = pd.merge(data, temp_df, on='msno', how='left')\r\n",
        "    \r\n",
        "    # Feature - 38 (activity period)\r\n",
        "    data['date_min'] = pd.to_datetime(data['date_min'], errors='coerce')\r\n",
        "    data['date_max'] = pd.to_datetime(data['date_max'], errors='coerce')\r\n",
        "    \r\n",
        "    data['activity_period'] = (data['date_max'] - data['date_min']).dt.days + 1\r\n",
        "    \r\n",
        "    # Feature - 39 (inactive days)\r\n",
        "    data['inactive_days'] = data['date'].nunique() - data['active_days']\r\n",
        "    \r\n",
        "    # Feature - 40 (rare behaviour)\r\n",
        "    # 0 (for not rare user) and 1 (for rare user)\r\n",
        "    data['is_rare'] = data['active_days'].apply(lambda x: 0 if (x > 1) else 1)\r\n",
        "    \r\n",
        "    # Feature - 41 (average time per day)\r\n",
        "    data['avg_time_perday'] = data['total_secs_sum'] / data['active_days']\r\n",
        "\r\n",
        "    # Feature - 42 (unique tracks played per day)\r\n",
        "    data['unq_track_perday'] = round(data['num_unq_sum'] / data['active_days'])\r\n",
        "\r\n",
        "    # Feature - 43 (tracks played till 25% length per day)\r\n",
        "    data['till_25_perday'] = round(data['num_25_sum'] / data['active_days'])\r\n",
        "\r\n",
        "    # Feature - 44 (tracks played till 50% length per day)\r\n",
        "    data['till_50_perday'] = round(data['num_50_sum'] / data['active_days'])\r\n",
        "\r\n",
        "    # Feature - 45 (tracks played till 75% length per day)\r\n",
        "    data['till_75_perday'] = round(data['num_75_sum'] / data['active_days'])\r\n",
        "\r\n",
        "    # Feature - 46 (tracks played till 98.5% length per day)\r\n",
        "    data['till_985_perday'] = round(data['num_985_sum'] / data['active_days'])\r\n",
        "\r\n",
        "    # Feature - 47 (tracks played till 100% length per day)\r\n",
        "    data['till_full_perday'] = round(data['num_100_sum'] / data['active_days'])\r\n",
        "    \r\n",
        "    # Feature - 48 (discount)\r\n",
        "    data['discount'] = data['plan_list_price'] - data['actual_amount_paid']    \r\n",
        "    # since there can be several values which are less than 0 for various reasons\r\n",
        "    # so it's always good to set a lower limit, here I can set 0\r\n",
        "    data['discount'] = data['discount'].clip(lower=0)\r\n",
        "    \r\n",
        "    # Feature - 49 (is_discount)\r\n",
        "    data['is_discount'] = data['discount'].apply(lambda x: 1 if (x > 0) else 0)\r\n",
        "    \r\n",
        "    # Feature - 50 (days since final login)\r\n",
        "    # Threshold that I set here is the last date, which is 31-03-2017\r\n",
        "    data['days_since_last_login'] = (pd.to_datetime(data['date'].unique().max(), errors='coerce') - data['date_max']).dt.days\r\n",
        "    \r\n",
        "    # Feature - 51 (days left)\r\n",
        "    data['membership_expire_date_max'] = pd.to_datetime(data['membership_expire_date_max'], errors='coerce')\r\n",
        "    data['days_left'] = (data['membership_expire_date_max'] - pd.to_datetime(data['date'].unique().max(), errors='coerce')).dt.days\r\n",
        "    \r\n",
        "    # Since there are many negative values so I can set them to 0\r\n",
        "    data['days_left'] = data['days_left'].clip(lower=0)\r\n",
        "    \r\n",
        "    # Feature - 52 (Loyality range)\r\n",
        "    data['transaction_date_max'] = pd.to_datetime(data['transaction_date_max'], errors='coerce')\r\n",
        "    data['registration_init_time'] = pd.to_datetime(data['registration_init_time'], errors='coerce')\r\n",
        "    data['layality_range'] = (data['transaction_date_max'] - data['registration_init_time']).dt.days\r\n",
        "    \r\n",
        "    # Feature - 53 (price per day)\r\n",
        "    data['Perday_price'] = data['actual_amount_paid'] / data['payment_plan_days']\r\n",
        "    \r\n",
        "    # Feature - 54 (days since final transaction)\r\n",
        "    data['days_since_final_transaction'] = (pd.to_datetime(data['date'].unique().max(), errors='coerce') - data['transaction_date_max']).dt.days\r\n",
        "    \r\n",
        "    return data"
      ],
      "execution_count": 13,
      "outputs": []
    },
    {
      "cell_type": "code",
      "metadata": {
        "id": "bLb9qnAIuqgj"
      },
      "source": [
        "finalFeaturized = featurization(finalMergeddata)"
      ],
      "execution_count": 14,
      "outputs": []
    },
    {
      "cell_type": "code",
      "metadata": {
        "id": "ZGLi2MpzPe2w"
      },
      "source": [
        "def prepare_data(data, registration_date):\r\n",
        "    \r\n",
        "    # removing all non_useful features first\r\n",
        "    data = data.drop(['registration_init_time',\r\n",
        "                                  'transaction_date', \r\n",
        "                                  'membership_expire_date', \r\n",
        "                                  'date', \r\n",
        "                                  'num_25',\r\n",
        "                                  'num_50',\r\n",
        "                                  'num_75',\r\n",
        "                                  'num_985',\r\n",
        "                                  'num_100',\r\n",
        "                                  'num_unq',\r\n",
        "                                  'total_secs',\r\n",
        "                                  'is_weekend',\r\n",
        "                                  'is_weekday',\r\n",
        "                                  'day_of_the_week'], axis=1, inplace=False)\r\n",
        "    \r\n",
        "    # creating new feature, and adding it to train dataset\r\n",
        "    data['registration_init_time'] = registration_date\r\n",
        "    \r\n",
        "    # removing all duplicate rows for a particular id\r\n",
        "    data = data.drop_duplicates('msno', keep='first', inplace=False)\r\n",
        "    \r\n",
        "    return data"
      ],
      "execution_count": 18,
      "outputs": []
    },
    {
      "cell_type": "code",
      "metadata": {
        "id": "X7EF5go2xfMI"
      },
      "source": [
        "finalFeatureEngineeredData = prepare_data(data, registration_time)"
      ],
      "execution_count": 19,
      "outputs": []
    },
    {
      "cell_type": "code",
      "metadata": {
        "id": "0opDrHpaEwx3",
        "colab": {
          "base_uri": "https://localhost:8080/",
          "height": 501
        },
        "outputId": "4ed7e4c0-d238-46ea-aa47-3a8a1237a33d"
      },
      "source": [
        "finalNormData1.boxplot(figsize=(20,8))"
      ],
      "execution_count": 41,
      "outputs": [
        {
          "output_type": "execute_result",
          "data": {
            "text/plain": [
              "<matplotlib.axes._subplots.AxesSubplot at 0x7fd49d924668>"
            ]
          },
          "metadata": {
            "tags": []
          },
          "execution_count": 41
        },
        {
          "output_type": "display_data",
          "data": {
            "image/png": "[encoded data removed]",
            "text/plain": [
              "<Figure size 1440x576 with 1 Axes>"
            ]
          },
          "metadata": {
            "tags": [],
            "needs_background": "light"
          }
        }
      ]
    },
    {
      "cell_type": "code",
      "metadata": {
        "id": "8bo2h1WRuEf4"
      },
      "source": [
        "def normalize(data):    \r\n",
        "    result1 = data.copy()\r\n",
        "    for feature_name in data.columns:\r\n",
        "        if (str(feature_name) != str('msno') and str(feature_name)!=str('is_churn')):\r\n",
        "            max_value = data[feature_name].max()\r\n",
        "            min_value = data[feature_name].min()\r\n",
        "            result1[feature_name] = (data[feature_name] - min_value) / (max_value - min_value)\r\n",
        "    return result1"
      ],
      "execution_count": 21,
      "outputs": []
    },
    {
      "cell_type": "code",
      "metadata": {
        "id": "gYAdl3EDxzrX"
      },
      "source": [
        "finalNormData1 = normalize(finalFeatureEngineeredData)"
      ],
      "execution_count": 23,
      "outputs": []
    },
    {
      "cell_type": "code",
      "metadata": {
        "id": "73IpDfYt0-ri"
      },
      "source": [
        "finalNormData1 = finalNormData1.drop(['msno'], axis=1)"
      ],
      "execution_count": 27,
      "outputs": []
    },
    {
      "cell_type": "code",
      "metadata": {
        "id": "C5G-uxLc0oCX"
      },
      "source": [
        "from sklearn.model_selection import train_test_split\r\n",
        "Y_train = finalNormData1['is_churn']\r\n",
        "X_train = finalNormData1.drop(['is_churn'],axis=1)"
      ],
      "execution_count": 28,
      "outputs": []
    },
    {
      "cell_type": "code",
      "metadata": {
        "id": "gis1ID5K00f5"
      },
      "source": [
        "from sklearn.tree import DecisionTreeClassifier\r\n",
        "from sklearn.linear_model import LogisticRegression\r\n",
        "from sklearn.model_selection import RandomizedSearchCV\r\n",
        "\r\n",
        "x_train, x_test, y_train, y_test = train_test_split(X_train, Y_train,test_size=0.20, random_state=42) #80-20\r\n",
        "\r\n",
        "clf = DecisionTreeClassifier(random_state=42,max_depth=5)\r\n",
        "\r\n",
        "# Train Decision Tree Classifer\r\n",
        "clf = clf.fit(x_train,y_train)\r\n",
        "\r\n",
        "y_pred = clf.predict(x_test)"
      ],
      "execution_count": 33,
      "outputs": []
    },
    {
      "cell_type": "code",
      "metadata": {
        "id": "IJY7n-n8Cqrn"
      },
      "source": [
        "from sklearn.ensemble import LogisticRegression\r\n",
        "logClf = LogisticRegression(n_estimators=100, random_state=0)\r\n",
        "\r\n",
        "chunk_size=50000\r\n",
        "batch_no=1\r\n",
        "row_size = 0\r\n",
        "for chunk in pd.read_csv('./all_data/user_logs.csv',chunksize=chunk_size):\r\n",
        "  chunk.join(trainMembTrasactionscsv.set_index('msno'),'msno',how='inner')\r\n",
        "  row_size = row_size + chunk.shape[0]\r\n",
        "  batch_no+=1\r\n",
        "  del chunk\r\n",
        "print(batch_no)\r\n",
        "print(row_size)\r\n",
        "\r\n",
        "y_test_predict = logClf.predict(x_test)\r\n",
        "kaggleop1['is_churn'] = pd.DataFrame(y_test_predict)"
      ],
      "execution_count": null,
      "outputs": []
    },
    {
      "cell_type": "code",
      "metadata": {
        "id": "0fcwD21avgye"
      },
      "source": [
        "logClf.fit(x_train, y_train)"
      ],
      "execution_count": null,
      "outputs": []
    },
    {
      "cell_type": "code",
      "metadata": {
        "colab": {
          "base_uri": "https://localhost:8080/",
          "height": 425
        },
        "id": "54JDOvqZ3pPW",
        "outputId": "7a2b9cd4-d84a-4921-c173-af4d179009f2"
      },
      "source": [
        "finalNormData1.corr(method='pearson')"
      ],
      "execution_count": 42,
      "outputs": [
        {
          "output_type": "execute_result",
          "data": {
            "text/html": [
              "<div>\n",
              "<style scoped>\n",
              "    .dataframe tbody tr th:only-of-type {\n",
              "        vertical-align: middle;\n",
              "    }\n",
              "\n",
              "    .dataframe tbody tr th {\n",
              "        vertical-align: top;\n",
              "    }\n",
              "\n",
              "    .dataframe thead th {\n",
              "        text-align: right;\n",
              "    }\n",
              "</style>\n",
              "<table border=\"1\" class=\"dataframe\">\n",
              "  <thead>\n",
              "    <tr style=\"text-align: right;\">\n",
              "      <th></th>\n",
              "      <th>is_churn</th>\n",
              "      <th>city</th>\n",
              "      <th>bd</th>\n",
              "      <th>gender</th>\n",
              "      <th>registered_via</th>\n",
              "      <th>payment_method_id</th>\n",
              "      <th>payment_plan_days</th>\n",
              "      <th>plan_list_price</th>\n",
              "      <th>actual_amount_paid</th>\n",
              "      <th>is_auto_renew</th>\n",
              "      <th>is_cancel</th>\n",
              "      <th>registration_init_time</th>\n",
              "    </tr>\n",
              "  </thead>\n",
              "  <tbody>\n",
              "    <tr>\n",
              "      <th>is_churn</th>\n",
              "      <td>1.000000</td>\n",
              "      <td>0.016833</td>\n",
              "      <td>-0.034307</td>\n",
              "      <td>0.005905</td>\n",
              "      <td>-0.019068</td>\n",
              "      <td>-0.045651</td>\n",
              "      <td>0.027065</td>\n",
              "      <td>0.042649</td>\n",
              "      <td>0.012002</td>\n",
              "      <td>-0.238630</td>\n",
              "      <td>-0.001321</td>\n",
              "      <td>0.057459</td>\n",
              "    </tr>\n",
              "    <tr>\n",
              "      <th>city</th>\n",
              "      <td>0.016833</td>\n",
              "      <td>1.000000</td>\n",
              "      <td>0.152921</td>\n",
              "      <td>0.542892</td>\n",
              "      <td>0.115979</td>\n",
              "      <td>-0.296663</td>\n",
              "      <td>-0.072046</td>\n",
              "      <td>0.136355</td>\n",
              "      <td>0.322563</td>\n",
              "      <td>-0.080981</td>\n",
              "      <td>0.010355</td>\n",
              "      <td>-0.314217</td>\n",
              "    </tr>\n",
              "    <tr>\n",
              "      <th>bd</th>\n",
              "      <td>-0.034307</td>\n",
              "      <td>0.152921</td>\n",
              "      <td>1.000000</td>\n",
              "      <td>0.191124</td>\n",
              "      <td>0.214444</td>\n",
              "      <td>-0.146598</td>\n",
              "      <td>-0.074244</td>\n",
              "      <td>-0.021192</td>\n",
              "      <td>0.085351</td>\n",
              "      <td>0.203390</td>\n",
              "      <td>-0.027064</td>\n",
              "      <td>-0.280389</td>\n",
              "    </tr>\n",
              "    <tr>\n",
              "      <th>gender</th>\n",
              "      <td>0.005905</td>\n",
              "      <td>0.542892</td>\n",
              "      <td>0.191124</td>\n",
              "      <td>1.000000</td>\n",
              "      <td>0.146008</td>\n",
              "      <td>-0.344776</td>\n",
              "      <td>-0.073105</td>\n",
              "      <td>0.160175</td>\n",
              "      <td>0.373409</td>\n",
              "      <td>-0.126365</td>\n",
              "      <td>0.000102</td>\n",
              "      <td>-0.409452</td>\n",
              "    </tr>\n",
              "    <tr>\n",
              "      <th>registered_via</th>\n",
              "      <td>-0.019068</td>\n",
              "      <td>0.115979</td>\n",
              "      <td>0.214444</td>\n",
              "      <td>0.146008</td>\n",
              "      <td>1.000000</td>\n",
              "      <td>-0.179467</td>\n",
              "      <td>-0.080167</td>\n",
              "      <td>-0.034270</td>\n",
              "      <td>0.066588</td>\n",
              "      <td>0.167500</td>\n",
              "      <td>0.009096</td>\n",
              "      <td>-0.501440</td>\n",
              "    </tr>\n",
              "    <tr>\n",
              "      <th>payment_method_id</th>\n",
              "      <td>-0.045651</td>\n",
              "      <td>-0.296663</td>\n",
              "      <td>-0.146598</td>\n",
              "      <td>-0.344776</td>\n",
              "      <td>-0.179467</td>\n",
              "      <td>1.000000</td>\n",
              "      <td>0.211071</td>\n",
              "      <td>-0.015808</td>\n",
              "      <td>-0.326338</td>\n",
              "      <td>0.225695</td>\n",
              "      <td>0.051504</td>\n",
              "      <td>0.364098</td>\n",
              "    </tr>\n",
              "    <tr>\n",
              "      <th>payment_plan_days</th>\n",
              "      <td>0.027065</td>\n",
              "      <td>-0.072046</td>\n",
              "      <td>-0.074244</td>\n",
              "      <td>-0.073105</td>\n",
              "      <td>-0.080167</td>\n",
              "      <td>0.211071</td>\n",
              "      <td>1.000000</td>\n",
              "      <td>0.839934</td>\n",
              "      <td>0.006500</td>\n",
              "      <td>-0.029136</td>\n",
              "      <td>0.031215</td>\n",
              "      <td>0.161681</td>\n",
              "    </tr>\n",
              "    <tr>\n",
              "      <th>plan_list_price</th>\n",
              "      <td>0.042649</td>\n",
              "      <td>0.136355</td>\n",
              "      <td>-0.021192</td>\n",
              "      <td>0.160175</td>\n",
              "      <td>-0.034270</td>\n",
              "      <td>-0.015808</td>\n",
              "      <td>0.839934</td>\n",
              "      <td>1.000000</td>\n",
              "      <td>0.487635</td>\n",
              "      <td>-0.138230</td>\n",
              "      <td>0.045318</td>\n",
              "      <td>-0.046271</td>\n",
              "    </tr>\n",
              "    <tr>\n",
              "      <th>actual_amount_paid</th>\n",
              "      <td>0.012002</td>\n",
              "      <td>0.322563</td>\n",
              "      <td>0.085351</td>\n",
              "      <td>0.373409</td>\n",
              "      <td>0.066588</td>\n",
              "      <td>-0.326338</td>\n",
              "      <td>0.006500</td>\n",
              "      <td>0.487635</td>\n",
              "      <td>1.000000</td>\n",
              "      <td>-0.141449</td>\n",
              "      <td>0.020652</td>\n",
              "      <td>-0.326426</td>\n",
              "    </tr>\n",
              "    <tr>\n",
              "      <th>is_auto_renew</th>\n",
              "      <td>-0.238630</td>\n",
              "      <td>-0.080981</td>\n",
              "      <td>0.203390</td>\n",
              "      <td>-0.126365</td>\n",
              "      <td>0.167500</td>\n",
              "      <td>0.225695</td>\n",
              "      <td>-0.029136</td>\n",
              "      <td>-0.138230</td>\n",
              "      <td>-0.141449</td>\n",
              "      <td>1.000000</td>\n",
              "      <td>0.045759</td>\n",
              "      <td>-0.090069</td>\n",
              "    </tr>\n",
              "    <tr>\n",
              "      <th>is_cancel</th>\n",
              "      <td>-0.001321</td>\n",
              "      <td>0.010355</td>\n",
              "      <td>-0.027064</td>\n",
              "      <td>0.000102</td>\n",
              "      <td>0.009096</td>\n",
              "      <td>0.051504</td>\n",
              "      <td>0.031215</td>\n",
              "      <td>0.045318</td>\n",
              "      <td>0.020652</td>\n",
              "      <td>0.045759</td>\n",
              "      <td>1.000000</td>\n",
              "      <td>0.009187</td>\n",
              "    </tr>\n",
              "    <tr>\n",
              "      <th>registration_init_time</th>\n",
              "      <td>0.057459</td>\n",
              "      <td>-0.314217</td>\n",
              "      <td>-0.280389</td>\n",
              "      <td>-0.409452</td>\n",
              "      <td>-0.501440</td>\n",
              "      <td>0.364098</td>\n",
              "      <td>0.161681</td>\n",
              "      <td>-0.046271</td>\n",
              "      <td>-0.326426</td>\n",
              "      <td>-0.090069</td>\n",
              "      <td>0.009187</td>\n",
              "      <td>1.000000</td>\n",
              "    </tr>\n",
              "  </tbody>\n",
              "</table>\n",
              "</div>"
            ],
            "text/plain": [
              "                        is_churn      city  ...  is_cancel  registration_init_time\n",
              "is_churn                1.000000  0.016833  ...  -0.001321                0.057459\n",
              "city                    0.016833  1.000000  ...   0.010355               -0.314217\n",
              "bd                     -0.034307  0.152921  ...  -0.027064               -0.280389\n",
              "gender                  0.005905  0.542892  ...   0.000102               -0.409452\n",
              "registered_via         -0.019068  0.115979  ...   0.009096               -0.501440\n",
              "payment_method_id      -0.045651 -0.296663  ...   0.051504                0.364098\n",
              "payment_plan_days       0.027065 -0.072046  ...   0.031215                0.161681\n",
              "plan_list_price         0.042649  0.136355  ...   0.045318               -0.046271\n",
              "actual_amount_paid      0.012002  0.322563  ...   0.020652               -0.326426\n",
              "is_auto_renew          -0.238630 -0.080981  ...   0.045759               -0.090069\n",
              "is_cancel              -0.001321  0.010355  ...   1.000000                0.009187\n",
              "registration_init_time  0.057459 -0.314217  ...   0.009187                1.000000\n",
              "\n",
              "[12 rows x 12 columns]"
            ]
          },
          "metadata": {
            "tags": []
          },
          "execution_count": 42
        }
      ]
    },
    {
      "cell_type": "code",
      "metadata": {
        "id": "diQjmTBAX-eq"
      },
      "source": [
        "lrclassify = LogisticRegression()\r\n",
        "lrclassify.fit(x_train,y_train)\r\n",
        "\r\n",
        "y_test_predict = lrclassify.predict(x_test)\r\n",
        "kaggleop2 = pd.DataFrame(y_test_predict)"
      ],
      "execution_count": 36,
      "outputs": []
    },
    {
      "cell_type": "code",
      "metadata": {
        "id": "AOFQACXb2Fo8"
      },
      "source": [
        "kaggleop2['is_churn'] = pd.DataFrame(y_test_predict)"
      ],
      "execution_count": 37,
      "outputs": []
    },
    {
      "cell_type": "code",
      "metadata": {
        "id": "j1OOQf1_2QsM"
      },
      "source": [
        "from sklearn.ensemble import GradientBoostingClassifier\r\n",
        "\r\n",
        "gradientBoostclf = GradientBoostingClassifier(n_estimators=100, random_state=0)\r\n",
        "gradientBoostclf.fit(x_train, y_train)\r\n",
        "y_test_predict = gradientBoostclf.predict(x_test)\r\n",
        "kaggleop3 = pd.DataFrame(y_test_predict)\r\n",
        "kaggleop3['is_churn'] = pd.DataFrame(y_test_predict)"
      ],
      "execution_count": 40,
      "outputs": []
    },
    {
      "cell_type": "code",
      "metadata": {
        "id": "yvZ_e5dG2gss"
      },
      "source": [
        "kaggleop3.to_csv('./all_data/my_submission_xgb.csv',index=False)"
      ],
      "execution_count": null,
      "outputs": []
    }
  ]
}